{
 "cells": [
  {
   "cell_type": "code",
   "execution_count": 6,
   "metadata": {},
   "outputs": [],
   "source": [
    "import sys\n",
    "import numpy as np\n",
    "import pandas as pd\n",
    "import matplotlib.pyplot as plt\n",
    "import math\n",
    "\n",
    "def sigmoid(x):\n",
    "    return 1 / (1 + math.exp(-x))\n",
    "\n",
    "def myStrategy(daily, minutely, open, lr, sr):\n",
    "    arr = []\n",
    "    short = []\n",
    "    for i in range(lr,daily.shape[0]):\n",
    "        avg = np.mean(daily['open'][i-lr:i].values)\n",
    "        arr.append(avg)\n",
    "    for i in range(sr,daily.shape[0]):\n",
    "        avg = np.mean(daily['open'][i-sr:i].values)\n",
    "        short.append(avg)\n",
    "    return arr, short\n",
    "\n",
    "def data_gen(daily, start):\n",
    "    train_x = []\n",
    "    train_y = []\n",
    "    for i in range(start, daily.shape[0]-1):\n",
    "        train_x.append(daily[i-start:i].reshape(start*4))\n",
    "        train_y.append(daily[i+1][3])\n",
    "    return np.array(train_x), np.array(train_y)"
   ]
  },
  {
   "cell_type": "code",
   "execution_count": 7,
   "metadata": {},
   "outputs": [],
   "source": [
    "daily = pd.read_csv(\"TX_daily.csv\")\n",
    "minutely = pd.read_csv(\"TX_minutely.csv\")\n",
    "minute_np = daily.to_numpy() #daily or minutely\n",
    "minute_np = np.delete(minute_np,0,axis=1)\n",
    "minute_np = np.delete(minute_np,4,axis=1)\n",
    "train_x, train_y = data_gen(minute_np,20)"
   ]
  },
  {
   "cell_type": "code",
   "execution_count": 8,
   "metadata": {},
   "outputs": [
    {
     "name": "stderr",
     "output_type": "stream",
     "text": [
      "C:\\Users\\ultim\\Anaconda3\\lib\\site-packages\\ipykernel_launcher.py:9: DeprecationWarning: using a non-integer array as obj in delete will result in an error in the future\n",
      "  if __name__ == '__main__':\n",
      "C:\\Users\\ultim\\Anaconda3\\lib\\site-packages\\ipykernel_launcher.py:10: DeprecationWarning: using a non-integer array as obj in delete will result in an error in the future\n",
      "  # Remove the CWD from sys.path while we load stuff.\n"
     ]
    }
   ],
   "source": [
    "count = 0\n",
    "nan_arr = []\n",
    "for i in range(train_x.shape[0]):\n",
    "    for j in range(80):\n",
    "        if np.isnan(train_x[i][j]):\n",
    "            nan_arr.append(i)\n",
    "            break\n",
    "nan_arr = np.array(nan_arr)\n",
    "train_x = np.delete(train_x, nan_arr, axis = 0)\n",
    "train_y = np.delete(train_y, nan_arr, axis = 0)"
   ]
  },
  {
   "cell_type": "code",
   "execution_count": 9,
   "metadata": {},
   "outputs": [
    {
     "data": {
      "text/plain": [
       "(2181, 80)"
      ]
     },
     "execution_count": 9,
     "metadata": {},
     "output_type": "execute_result"
    }
   ],
   "source": [
    "train_x.shape"
   ]
  },
  {
   "cell_type": "code",
   "execution_count": 10,
   "metadata": {},
   "outputs": [
    {
     "name": "stdout",
     "output_type": "stream",
     "text": [
      "0\n",
      "1000\n",
      "2000\n",
      "3000\n",
      "4000\n",
      "5000\n",
      "6000\n",
      "7000\n",
      "8000\n",
      "9000\n"
     ]
    }
   ],
   "source": [
    "weight = np.zeros(train_x.shape[1])\n",
    "for i in range(len(weight)):\n",
    "    weight[i] = 1\n",
    "\n",
    "lr = 1e-14\n",
    "for i in range(10000):\n",
    "    if i % 1000 == 0:\n",
    "        print(i)\n",
    "    y = np.dot(train_x, weight)\n",
    "    loss = y - train_y\n",
    "    gradient = 2*np.dot(train_x.T, loss)\n",
    "    #print(gradient)\n",
    "    weight = weight - lr*gradient"
   ]
  },
  {
   "cell_type": "code",
   "execution_count": 11,
   "metadata": {},
   "outputs": [
    {
     "name": "stdout",
     "output_type": "stream",
     "text": [
      "[0.007291727294631128 0.002729207030992755 0.012390487875319602\n",
      " 0.007351601337959795 0.0071709457432260456 0.0026063372729191146\n",
      " 0.012252552207491012 0.007252655634525044 0.007081466834350503\n",
      " 0.002509392788626616 0.012128532038257757 0.00715199953917807\n",
      " 0.007024223566102112 0.002485717919912585 0.012129498372252618\n",
      " 0.007162853239488879 0.007071042404392404 0.0024833292189513213\n",
      " 0.012187282335265849 0.00716862353695612 0.0071281036760300585\n",
      " 0.0025812048977864694 0.012320667360474422 0.007378205675704321\n",
      " 0.007368570835908435 0.0028256814291799334 0.012682408524187049\n",
      " 0.007710517653350508 0.007806222708269248 0.003315646617366563\n",
      " 0.013268097526213139 0.008260509579476874 0.008481834519974389\n",
      " 0.003966508571155869 0.014002880457036869 0.008959802710885263\n",
      " 0.009279078860949995 0.004690422128381189 0.014870256519270968\n",
      " 0.009746106699615325 0.010166645442141808 0.00557176519009417\n",
      " 0.01588564688046024 0.010748280661069426 0.01119371738527769\n",
      " 0.006629006266228699 0.017003979107756712 0.011901877485922979\n",
      " 0.012429389829640798 0.007856863379644717 0.018366555409085435\n",
      " 0.013205567145186621 0.013763086814981822 0.009166828698632513\n",
      " 0.01970148463292435 0.014540915766095458 0.01515557956169352\n",
      " 0.010576312622938778 0.021131556231326135 0.015990061910285683\n",
      " 0.01668772267072184 0.012105443348166602 0.022730866951611285\n",
      " 0.017607371535313308 0.018410879337794603 0.013868262613338244\n",
      " 0.024583973354486584 0.019516083309291575 0.020506906291542854\n",
      " 0.015919841525567652 0.02679910099304209 0.021658388722499096\n",
      " 0.022806202479923883 0.018197236584732553 0.02922638356980954\n",
      " 0.024064307133835693 0.02531003897201133 0.02067803238920163\n",
      " 0.03177652913717966 0.026601981807929966]\n"
     ]
    }
   ],
   "source": [
    "print(weight) # low的權重很重，感覺其他方式要用它?!"
   ]
  },
  {
   "cell_type": "code",
   "execution_count": 12,
   "metadata": {},
   "outputs": [
    {
     "name": "stdout",
     "output_type": "stream",
     "text": [
      "11669.495717585602\n",
      "11961.0\n"
     ]
    }
   ],
   "source": [
    "test_x = []\n",
    "for i in range(len(daily)-21,len(daily)-1):\n",
    "    test_x.append(daily.values[i][1:5])\n",
    "test_x = np.array(test_x)\n",
    "test_x = test_x.reshape(80)\n",
    "print(np.dot(test_x.T,weight))\n",
    "print(daily.values[len(daily)-1][4])"
   ]
  },
  {
   "cell_type": "code",
   "execution_count": 15,
   "metadata": {},
   "outputs": [],
   "source": [
    "np.save(\"weight.npy\",weight)"
   ]
  },
  {
   "cell_type": "code",
   "execution_count": 17,
   "metadata": {},
   "outputs": [
    {
     "name": "stdout",
     "output_type": "stream",
     "text": [
      "0.007291727294631128,0.002729207030992755,0.012390487875319602,0.007351601337959795,0.0071709457432260456,0.0026063372729191146,0.012252552207491012,0.007252655634525044,0.007081466834350503,0.002509392788626616,0.012128532038257757,0.00715199953917807,0.007024223566102112,0.002485717919912585,0.012129498372252618,0.007162853239488879,0.007071042404392404,0.0024833292189513213,0.012187282335265849,0.00716862353695612,0.0071281036760300585,0.0025812048977864694,0.012320667360474422,0.007378205675704321,0.007368570835908435,0.0028256814291799334,0.012682408524187049,0.007710517653350508,0.007806222708269248,0.003315646617366563,0.013268097526213139,0.008260509579476874,0.008481834519974389,0.003966508571155869,0.014002880457036869,0.008959802710885263,0.009279078860949995,0.004690422128381189,0.014870256519270968,0.009746106699615325,0.010166645442141808,0.00557176519009417,0.01588564688046024,0.010748280661069426,0.01119371738527769,0.006629006266228699,0.017003979107756712,0.011901877485922979,0.012429389829640798,0.007856863379644717,0.018366555409085435,0.013205567145186621,0.013763086814981822,0.009166828698632513,0.01970148463292435,0.014540915766095458,0.01515557956169352,0.010576312622938778,0.021131556231326135,0.015990061910285683,0.01668772267072184,0.012105443348166602,0.022730866951611285,0.017607371535313308,0.018410879337794603,0.013868262613338244,0.024583973354486584,0.019516083309291575,0.020506906291542854,0.015919841525567652,0.02679910099304209,0.021658388722499096,0.022806202479923883,0.018197236584732553,0.02922638356980954,0.024064307133835693,0.02531003897201133,0.02067803238920163,0.03177652913717966,0.026601981807929966,"
     ]
    }
   ],
   "source": [
    "for i in weight:\n",
    "    print(i,end = \",\")"
   ]
  },
  {
   "cell_type": "code",
   "execution_count": 47,
   "metadata": {
    "scrolled": true
   },
   "outputs": [
    {
     "name": "stdout",
     "output_type": "stream",
     "text": [
      "[9000.0 9030.0 8995.0 9020.0]\n"
     ]
    }
   ],
   "source": [
    "lr = 365\n",
    "sr = 20\n",
    "ly, sy = myStrategy(daily,minutely, 0, lr, sr)\n",
    "lx = range(lr,daily.shape[0])\n",
    "sx = range(sr,daily.shape[0])\n",
    "plt.plot(lx, ly)\n",
    "plt.plot(sx, sy)\n",
    "plt.show()"
   ]
  }
 ],
 "metadata": {
  "kernelspec": {
   "display_name": "Python 3",
   "language": "python",
   "name": "python3"
  },
  "language_info": {
   "codemirror_mode": {
    "name": "ipython",
    "version": 3
   },
   "file_extension": ".py",
   "mimetype": "text/x-python",
   "name": "python",
   "nbconvert_exporter": "python",
   "pygments_lexer": "ipython3",
   "version": "3.6.8"
  }
 },
 "nbformat": 4,
 "nbformat_minor": 2
}
